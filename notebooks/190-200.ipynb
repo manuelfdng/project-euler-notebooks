{
 "cells": [
  {
   "cell_type": "markdown",
   "id": "85df3539",
   "metadata": {},
   "source": [
    "# Project Euler Problems #190 to #200"
   ]
  },
  {
   "cell_type": "markdown",
   "id": "a5c07439",
   "metadata": {},
   "source": [
    "A particular school offers cash rewards to children with good attendance and punctuality. If they are absent for three consecutive days or late on more than one occasion then they forfeit their prize.\n",
    "\n",
    "\n",
    "During an n-day period a trinary string is formed for each child consisting of L's (late), O's (on time), and A's (absent).\n",
    "\n",
    "\n",
    "Although there are eighty-one trinary strings for a 4-day period that can be formed, exactly forty-three strings would lead to a prize:\n",
    "\n",
    "\n",
    "OOOO OOOA OOOL OOAO OOAA OOAL OOLO OOLA OAOO OAOA  \n",
    "\n",
    "OAOL OAAO OAAL OALO OALA OLOO OLOA OLAO OLAA AOOO  \n",
    "\n",
    "AOOA AOOL AOAO AOAA AOAL AOLO AOLA AAOO AAOA AAOL  \n",
    "\n",
    "AALO AALA ALOO ALOA ALAO ALAA LOOO LOOA LOAO LOAA  \n",
    "\n",
    "LAOO LAOA LAAO\n",
    "\n",
    "\n",
    "How many \"prize\" strings exist over a 30-day period?\n",
    "\n",
    "\n"
   ]
  },
  {
   "cell_type": "code",
   "execution_count": null,
   "id": "192c243f",
   "metadata": {},
   "outputs": [],
   "source": []
  },
  {
   "cell_type": "markdown",
   "id": "baade641",
   "metadata": {},
   "source": [
    "Let $x$ be a real number.  \n",
    "\n",
    "A **best approximation** to $x$ for the **denominator bound** $d$ is a rational number $\\frac r s $ in **reduced form**, with $s \\le d$, such that any rational number which is closer to $x$ than $\\frac r s$ has a denominator larger than $d$:\n",
    "\n",
    "\n",
    " $|\\frac p q -x | < |\\frac r s -x| \\Rightarrow q > d$\n",
    "\n",
    "For example, the best approximation to $\\sqrt {13}$ for the denominator bound 20 is $\\frac {18} 5$ and the best approximation to $\\sqrt {13}$ for the denominator bound 30 is $\\frac {101}{28}$.\n",
    "\n",
    "\n",
    "Find the sum of all denominators of the best approximations to $\\sqrt n$ for the denominator bound $10^{12}$, where $n$ is not a perfect square and $ 1 < n \\le 100000$. \n",
    "\n",
    "\n"
   ]
  },
  {
   "cell_type": "code",
   "execution_count": null,
   "id": "045d21cc",
   "metadata": {},
   "outputs": [],
   "source": []
  },
  {
   "cell_type": "markdown",
   "id": "6db3fb73",
   "metadata": {},
   "source": [
    "A positive integer n is called squarefree, if no square of a prime divides n, thus 1, 2, 3, 5, 6, 7, 10, 11 are squarefree, but not 4, 8, 9, 12.\n",
    "\n",
    "\n",
    "How many squarefree numbers are there below 250?\n",
    "\n",
    "\n"
   ]
  },
  {
   "cell_type": "code",
   "execution_count": null,
   "id": "400309e4",
   "metadata": {},
   "outputs": [],
   "source": []
  },
  {
   "cell_type": "markdown",
   "id": "0b6e436f",
   "metadata": {},
   "source": [
    "Consider graphs built with the units A: ![](project/images/p194_GraphA.png)\n",
    "and B: ![](project/images/p194_GraphB.png), where the units are glued along\n",
    "the vertical edges as in the graph ![](project/images/p194_Fig.png).\n",
    "\n",
    "\n",
    "A configuration of type (a,b,c) is a graph thus built of a units A and b units B, where the graph's vertices are coloured using up to c colours, so that no two adjacent vertices have the same colour.  \n",
    "\n",
    "The compound graph above is an example of a configuration of type (2,2,6), in fact of type (2,2,c) for all c ≥ 4.\n",
    "\n",
    "\n",
    "Let N(a,b,c) be the number of configurations of type (a,b,c).  \n",
    "\n",
    "For example, N(1,0,3) = 24, N(0,2,4) = 92928 and N(2,2,3) = 20736.\n",
    "\n",
    "\n",
    "Find the last 8 digits of N(25,75,1984).\n",
    "\n",
    "\n"
   ]
  },
  {
   "cell_type": "code",
   "execution_count": null,
   "id": "d185d576",
   "metadata": {},
   "outputs": [],
   "source": []
  },
  {
   "cell_type": "markdown",
   "id": "8e3bc6c7",
   "metadata": {},
   "source": [
    "Let's call an integer sided triangle with exactly one angle of 60 degrees a 60-degree triangle.  \n",
    "\n",
    "Let r be the radius of the inscribed circle of such a 60-degree triangle.\n",
    "\n",
    "\n",
    "There are 1234 60-degree triangles for which r ≤ 100.\n",
    "  \n",
    "Let T(n) be the number of 60-degree triangles for which r ≤ n, so  \n",
    "\n",
    " T(100) = 1234,  T(1000) = 22767, and  T(10000) = 359912.\n",
    "\n",
    "\n",
    "Find T(1053779).\n",
    "\n",
    "\n"
   ]
  },
  {
   "cell_type": "code",
   "execution_count": null,
   "id": "cd3fd022",
   "metadata": {},
   "outputs": [],
   "source": []
  },
  {
   "cell_type": "markdown",
   "id": "ca0fe8e8",
   "metadata": {},
   "source": [
    "Build a triangle from all positive integers in the following way:\n",
    "\n",
    "\n",
    " 1  \n",
    "\n",
    " 2  3  \n",
    "\n",
    " 4  5  6  \n",
    "\n",
    " 7  8  9 10  \n",
    "11 12 13 14 15  \n",
    "\n",
    "16 17 18 19 20 21  \n",
    "\n",
    "22 23 24 25 26 27 28  \n",
    "29 30 31 32 33 34 35 36  \n",
    "37 38 39 40 41 42 43 44 45  \n",
    "\n",
    "46 47 48 49 50 51 52 53 54 55  \n",
    "\n",
    "56 57 58 59 60 61 62 63 64 65 66  \n",
    "\n",
    ". . .\n",
    "\n",
    "\n",
    "Each positive integer has up to eight neighbours in the triangle.\n",
    "\n",
    "\n",
    "A set of three primes is called a *prime triplet* if one of the three primes has the other two as neighbours in the triangle.\n",
    "\n",
    "\n",
    "For example, in the second row, the prime numbers 2 and 3 are elements of some prime triplet.\n",
    "\n",
    "\n",
    "If row 8 is considered, it contains two primes which are elements of some prime triplet, i.e. 29 and 31.  \n",
    "\n",
    "If row 9 is considered, it contains only one prime which is an element of some prime triplet: 37.\n",
    "\n",
    "\n",
    "Define S(n) as the sum of the primes in row n which are elements of any prime triplet.  \n",
    "\n",
    "Then S(8)=60 and S(9)=37.\n",
    "\n",
    "\n",
    "You are given that S(10000)=950007619.\n",
    "\n",
    "\n",
    "Find  S(5678027) + S(7208785).\n",
    "\n",
    "\n"
   ]
  },
  {
   "cell_type": "code",
   "execution_count": null,
   "id": "07d5ee60",
   "metadata": {},
   "outputs": [],
   "source": []
  },
  {
   "cell_type": "markdown",
   "id": "0fc74484",
   "metadata": {},
   "source": [
    "Given is the function f(x) = ⌊230.403243784-x2⌋ × 10-9 ( ⌊ ⌋ is the floor-function),  \n",
    "\n",
    "the sequence un is defined by u0 = -1 and un+1 = f(un).\n",
    "\n",
    "\n",
    "Find un + un+1 for n = 1012.  \n",
    "\n",
    "Give your answer with 9 digits after the decimal point.\n",
    "\n",
    "\n"
   ]
  },
  {
   "cell_type": "code",
   "execution_count": null,
   "id": "bd42d9fc",
   "metadata": {},
   "outputs": [],
   "source": []
  },
  {
   "cell_type": "markdown",
   "id": "1ee6f649",
   "metadata": {},
   "source": [
    "A best approximation to a real number $x$ for the denominator bound $d$ is a rational number $\\frac r s$ (in reduced form) with $s \\le d$, so that any rational number $\\frac p q$ which is closer to $x$ than $\\frac r s$ has $q > d$.\n",
    "\n",
    "\n",
    "Usually the best approximation to a real number is uniquely determined for all denominator bounds. However, there are some exceptions, e.g. $\\frac 9 {40}$ has the two best approximations $\\frac 1 4$ and $\\frac 1 5$ for the denominator bound $6$.\n",
    "We shall call a real number $x$ *ambiguous*, if there is at least one denominator bound for which $x$ possesses two best approximations. Clearly, an ambiguous number is necessarily rational.\n",
    "\n",
    "\n",
    "How many ambiguous numbers $x=\\frac p q, 0 < x < \\frac 1 {100}$, are there whose denominator $q$ does not exceed $10^8$?\n",
    "\n",
    "\n"
   ]
  },
  {
   "cell_type": "code",
   "execution_count": null,
   "id": "5d907d4a",
   "metadata": {},
   "outputs": [],
   "source": []
  },
  {
   "cell_type": "markdown",
   "id": "f21ec138",
   "metadata": {},
   "source": [
    "Three circles of equal radius are placed inside a larger circle such that each pair of circles is tangent to one another and the inner circles do not overlap. There are four uncovered \"gaps\" which are to be filled iteratively with more tangent circles.\n",
    "\n",
    "\n",
    "\n",
    "![](project/images/p199_circles_in_circles.gif)\n",
    "\n",
    "At each iteration, a maximally sized circle is placed in each gap, which creates more gaps for the next iteration. After 3 iterations (pictured), there are 108 gaps and the fraction of the area which is not covered by circles is 0.06790342, rounded to eight decimal places.\n",
    "\n",
    "\n",
    "\n",
    "\n",
    "What fraction of the area is not covered by circles after 10 iterations?  \n",
    "\n",
    "Give your answer rounded to eight decimal places using the format x.xxxxxxxx .\n",
    "\n",
    "\n",
    "\n"
   ]
  },
  {
   "cell_type": "code",
   "execution_count": null,
   "id": "d7f479da",
   "metadata": {},
   "outputs": [],
   "source": []
  },
  {
   "cell_type": "markdown",
   "id": "16d1679b",
   "metadata": {},
   "source": [
    "We shall define a sqube to be a number of the form, p2q3, where p and q are distinct primes.  \n",
    "\n",
    "For example, 200 = 5223 or 120072949 = 232613.\n",
    "\n",
    "\n",
    "The first five squbes are 72, 108, 200, 392, and 500.\n",
    "\n",
    "\n",
    "Interestingly, 200 is also the first number for which you cannot change any single digit to make a prime; we shall call such numbers, prime-proof. The next prime-proof sqube which contains the contiguous sub-string \"200\" is 1992008.\n",
    "\n",
    "\n",
    "Find the 200th prime-proof sqube containing the contiguous sub-string \"200\".\n",
    "\n",
    "\n"
   ]
  },
  {
   "cell_type": "code",
   "execution_count": null,
   "id": "2634d79d",
   "metadata": {},
   "outputs": [],
   "source": []
  }
 ],
 "metadata": {},
 "nbformat": 4,
 "nbformat_minor": 5
}
