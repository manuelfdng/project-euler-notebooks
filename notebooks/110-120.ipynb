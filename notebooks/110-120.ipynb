{
 "cells": [
  {
   "cell_type": "markdown",
   "id": "f9243733",
   "metadata": {},
   "source": [
    "# Project Euler Problems #110 to #120"
   ]
  },
  {
   "cell_type": "markdown",
   "id": "95912bda",
   "metadata": {},
   "source": [
    "Considering 4-digit primes containing repeated digits it is clear that they cannot all be the same: 1111 is divisible by 11, 2222 is divisible by 22, and so on. But there are nine 4-digit primes containing three ones:\n",
    "\n",
    "\n",
    "1117, 1151, 1171, 1181, 1511, 1811, 2111, 4111, 8111\n",
    "\n",
    "\n",
    "We shall say that M(*n*, *d*) represents the maximum number of repeated digits for an *n*-digit prime where *d* is the repeated digit, N(*n*, *d*) represents the number of such primes, and S(*n*, *d*) represents the sum of these primes.\n",
    "\n",
    "\n",
    "So M(4, 1) = 3 is the maximum number of repeated digits for a 4-digit prime where one is the repeated digit, there are N(4, 1) = 9 such primes, and the sum of these primes is S(4, 1) = 22275. It turns out that for *d* = 0, it is only possible to have M(4, 0) = 2 repeated digits, but there are N(4, 0) = 13 such cases.\n",
    "\n",
    "\n",
    "In the same way we obtain the following results for 4-digit primes.\n",
    "\n",
    "\n",
    "\n",
    "\n",
    "\n",
    "|  |  |  |  |\n",
    "| --- | --- | --- | --- |\n",
    "| **Digit, *d*** | **M(4, *d*)** | **N(4, *d*)** | **S(4, *d*)** |\n",
    "| 0 | 2 | 13 | 67061 |\n",
    "| 1 | 3 | 9 | 22275 |\n",
    "| 2 | 3 | 1 | 2221 |\n",
    "| 3 | 3 | 12 | 46214 |\n",
    "| 4 | 3 | 2 | 8888 |\n",
    "| 5 | 3 | 1 | 5557 |\n",
    "| 6 | 3 | 1 | 6661 |\n",
    "| 7 | 3 | 9 | 57863 |\n",
    "| 8 | 3 | 1 | 8887 |\n",
    "| 9 | 3 | 7 | 48073 |\n",
    "\n",
    "\n",
    "For *d* = 0 to 9, the sum of all S(4, *d*) is 273700.\n",
    "\n",
    "\n",
    "Find the sum of all S(10, *d*).\n",
    "\n",
    "\n"
   ]
  },
  {
   "cell_type": "code",
   "execution_count": null,
   "id": "1bbf5e91",
   "metadata": {},
   "outputs": [],
   "source": []
  },
  {
   "cell_type": "markdown",
   "id": "593d3262",
   "metadata": {},
   "source": [
    "Working from left-to-right if no digit is exceeded by the digit to its left it is called an increasing number; for example, 134468.\n",
    "\n",
    "\n",
    "Similarly if no digit is exceeded by the digit to its right it is called a decreasing number; for example, 66420.\n",
    "\n",
    "\n",
    "We shall call a positive integer that is neither increasing nor decreasing a \"bouncy\" number; for example, 155349.\n",
    "\n",
    "\n",
    "Clearly there cannot be any bouncy numbers below one-hundred, but just over half of the numbers below one-thousand (525) are bouncy. In fact, the least number for which the proportion of bouncy numbers first reaches 50% is 538.\n",
    "\n",
    "\n",
    "Surprisingly, bouncy numbers become more and more common and by the time we reach 21780 the proportion of bouncy numbers is equal to 90%.\n",
    "\n",
    "\n",
    "Find the least number for which the proportion of bouncy numbers is exactly 99%.\n",
    "\n",
    "\n"
   ]
  },
  {
   "cell_type": "code",
   "execution_count": null,
   "id": "b2924e5e",
   "metadata": {},
   "outputs": [],
   "source": []
  },
  {
   "cell_type": "markdown",
   "id": "010ab3eb",
   "metadata": {},
   "source": [
    "\n",
    "Working from left-to-right if no digit is exceeded by the digit to its left it is called an increasing number; for example, 134468.\n",
    "\n",
    "\n",
    "Similarly if no digit is exceeded by the digit to its right it is called a decreasing number; for example, 66420.\n",
    "\n",
    "\n",
    "We shall call a positive integer that is neither increasing nor decreasing a \"bouncy\" number; for example, 155349.\n",
    "\n",
    "\n",
    "As *n* increases, the proportion of bouncy numbers below *n* increases such that there are only 12951 numbers below one-million that are not bouncy and only 277032 non-bouncy numbers below 1010.\n",
    "\n",
    "\n",
    "How many numbers below a googol (10100) are not bouncy?\n",
    "\n",
    "\n"
   ]
  },
  {
   "cell_type": "code",
   "execution_count": null,
   "id": "8c241600",
   "metadata": {},
   "outputs": [],
   "source": []
  },
  {
   "cell_type": "markdown",
   "id": "f0da3d34",
   "metadata": {},
   "source": [
    "A row measuring seven units in length has red blocks with a minimum length of three units placed on it, such that any two red blocks (which are allowed to be different lengths) are separated by at least one grey square. There are exactly seventeen ways of doing this.\n",
    "\n",
    "\n",
    "\n",
    "![p114.png](project/images/p114.png)\n",
    "How many ways can a row measuring fifty units in length be filled?\n",
    "\n",
    "\n",
    "NOTE: Although the example above does not lend itself to the possibility, in general it is permitted to mix block sizes. For example, on a row measuring eight units in length you could use red (3), grey (1), and red (4).\n",
    "\n",
    "\n"
   ]
  },
  {
   "cell_type": "code",
   "execution_count": null,
   "id": "3baeef52",
   "metadata": {},
   "outputs": [],
   "source": []
  },
  {
   "cell_type": "markdown",
   "id": "c6a8cb2b",
   "metadata": {},
   "source": [
    "NOTE: This is a more difficult version of [Problem 114](problem=114).\n",
    "\n",
    "\n",
    "A row measuring *n* units in length has red blocks with a minimum length of *m* units placed on it, such that any two red blocks (which are allowed to be different lengths) are separated by at least one black square.\n",
    "\n",
    "\n",
    "Let the fill-count function, F(*m*, *n*), represent the number of ways that a row can be filled.\n",
    "\n",
    "\n",
    "For example, F(3, 29) = 673135 and F(3, 30) = 1089155.\n",
    "\n",
    "\n",
    "That is, for *m* = 3, it can be seen that *n* = 30 is the smallest value for which the fill-count function first exceeds one million.\n",
    "\n",
    "\n",
    "In the same way, for *m* = 10, it can be verified that F(10, 56) = 880711 and F(10, 57) = 1148904, so *n* = 57 is the least value for which the fill-count function first exceeds one million.\n",
    "\n",
    "\n",
    "For *m* = 50, find the least value of *n* for which the fill-count function first exceeds one million.\n",
    "\n",
    "\n"
   ]
  },
  {
   "cell_type": "code",
   "execution_count": null,
   "id": "3a0845a1",
   "metadata": {},
   "outputs": [],
   "source": []
  },
  {
   "cell_type": "markdown",
   "id": "a1fa6147",
   "metadata": {},
   "source": [
    "A row of five grey square tiles is to have a number of its tiles replaced with coloured oblong tiles chosen from red (length two), green (length three), or blue (length four).\n",
    "\n",
    "\n",
    "If red tiles are chosen there are exactly seven ways this can be done.\n",
    "\n",
    "\n",
    "\n",
    "![png116_1.png](project/images/p116_1.png)\n",
    "If green tiles are chosen there are three ways.\n",
    "\n",
    "\n",
    "\n",
    "![png116_2.png](project/images/p116_2.png)\n",
    "And if blue tiles are chosen there are two ways.\n",
    "\n",
    "\n",
    "\n",
    "![png116_3.png](project/images/p116_3.png)\n",
    "Assuming that colours cannot be mixed there are 7 + 3 + 2 = 12 ways of replacing the grey tiles in a row measuring five units in length.\n",
    "\n",
    "\n",
    "How many different ways can the grey tiles in a row measuring fifty units in length be replaced if colours cannot be mixed and at least one coloured tile must be used?\n",
    "\n",
    "\n",
    "NOTE: This is related to [Problem 117](problem=117).\n",
    "\n",
    "\n"
   ]
  },
  {
   "cell_type": "code",
   "execution_count": null,
   "id": "993ef87d",
   "metadata": {},
   "outputs": [],
   "source": []
  },
  {
   "cell_type": "markdown",
   "id": "ff607dc7",
   "metadata": {},
   "source": [
    "Using a combination of grey square tiles and oblong tiles chosen from: red tiles (measuring two units), green tiles (measuring three units), and blue tiles (measuring four units), it is possible to tile a row measuring five units in length in exactly fifteen different ways.\n",
    "\n",
    "\n",
    "\n",
    "![png117.png](project/images/p117.png)\n",
    "How many ways can a row measuring fifty units in length be tiled?\n",
    "\n",
    "\n",
    "NOTE: This is related to [Problem 116](problem=116).\n",
    "\n",
    "\n"
   ]
  },
  {
   "cell_type": "code",
   "execution_count": null,
   "id": "b9a539ec",
   "metadata": {},
   "outputs": [],
   "source": []
  },
  {
   "cell_type": "markdown",
   "id": "88e6d5c8",
   "metadata": {},
   "source": [
    "Using all of the digits 1 through 9 and concatenating them freely to form decimal integers, different sets can be formed. Interestingly with the set {2,5,47,89,631}, all of the elements belonging to it are prime.\n",
    "\n",
    "\n",
    "How many distinct sets containing each of the digits one through nine exactly once contain only prime elements?\n",
    "\n",
    "\n"
   ]
  },
  {
   "cell_type": "code",
   "execution_count": null,
   "id": "54b77cfe",
   "metadata": {},
   "outputs": [],
   "source": []
  },
  {
   "cell_type": "markdown",
   "id": "cc8923c3",
   "metadata": {},
   "source": [
    "The number 512 is interesting because it is equal to the sum of its digits raised to some power: 5 + 1 + 2 = 8, and 83 = 512. Another example of a number with this property is 614656 = 284.\n",
    "\n",
    "\n",
    "We shall define *a*n to be the *n*th term of this sequence and insist that a number must contain at least two digits to have a sum.\n",
    "\n",
    "\n",
    "You are given that *a*2 = 512 and *a*10 = 614656.\n",
    "\n",
    "\n",
    "Find *a*30.\n",
    "\n",
    "\n"
   ]
  },
  {
   "cell_type": "code",
   "execution_count": null,
   "id": "36861273",
   "metadata": {},
   "outputs": [],
   "source": []
  },
  {
   "cell_type": "markdown",
   "id": "9d5997eb",
   "metadata": {},
   "source": [
    "\n",
    "Let *r* be the remainder when (*a*−1)*n* + (*a*+1)*n* is divided by *a*2.\n",
    "\n",
    "\n",
    "For example, if *a* = 7 and *n* = 3, then *r* = 42: 63 + 83 = 728 ≡ 42 mod 49. And as *n* varies, so too will *r*, but for *a* = 7 it turns out that *r*max = 42.\n",
    "\n",
    "\n",
    "For 3 ≤ *a* ≤ 1000, find ∑ *r*max.\n",
    "\n",
    "\n"
   ]
  },
  {
   "cell_type": "code",
   "execution_count": null,
   "id": "aea2dec5",
   "metadata": {},
   "outputs": [],
   "source": []
  }
 ],
 "metadata": {},
 "nbformat": 4,
 "nbformat_minor": 5
}
