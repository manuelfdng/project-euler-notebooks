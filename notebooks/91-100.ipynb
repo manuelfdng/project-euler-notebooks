{
 "cells": [
  {
   "cell_type": "markdown",
   "id": "6d60801e",
   "metadata": {},
   "source": [
    "# Project Euler Problems #91 to #100"
   ]
  },
  {
   "cell_type": "markdown",
   "id": "b5c122d0",
   "metadata": {},
   "source": [
    "The points P (*x*1, *y*1) and Q (*x*2, *y*2) are plotted at integer co-ordinates and are joined to the origin, O(0,0), to form ΔOPQ.\n",
    "\n",
    "\n",
    "\n",
    "![](project/images/p091_1.png)  \n",
    "\n",
    "There are exactly fourteen triangles containing a right angle that can be formed when each co-ordinate lies between 0 and 2 inclusive; that is,  \n",
    "0 ≤ *x*1, *y*1, *x*2, *y*2 ≤ 2.\n",
    "\n",
    "\n",
    "\n",
    "![](project/images/p091_2.png)  \n",
    "\n",
    "Given that 0 ≤ *x*1, *y*1, *x*2, *y*2 ≤ 50, how many right triangles can be formed?\n",
    "\n",
    "\n"
   ]
  },
  {
   "cell_type": "code",
   "execution_count": null,
   "id": "33f72295",
   "metadata": {},
   "outputs": [],
   "source": []
  },
  {
   "cell_type": "markdown",
   "id": "045164d2",
   "metadata": {},
   "source": [
    "\n",
    "A number chain is created by continuously adding the square of the digits in a number to form a new number until it has been seen before.\n",
    "\n",
    "\n",
    "For example,\n",
    "\n",
    "\n",
    "44 → 32 → 13 → 10 → **1** → **1**  \n",
    "\n",
    "85 → **89** → 145 → 42 → 20 → 4 → 16 → 37 → 58 → **89**\n",
    "\n",
    "\n",
    "Therefore any chain that arrives at 1 or 89 will become stuck in an endless loop. What is most amazing is that EVERY starting number will eventually arrive at 1 or 89.\n",
    "\n",
    "\n",
    "How many starting numbers below ten million will arrive at 89?\n",
    "\n",
    "\n"
   ]
  },
  {
   "cell_type": "code",
   "execution_count": null,
   "id": "3198f360",
   "metadata": {},
   "outputs": [],
   "source": []
  },
  {
   "cell_type": "markdown",
   "id": "07d98c0a",
   "metadata": {},
   "source": [
    "By using each of the digits from the set, {1, 2, 3, 4}, exactly once, and making use of the four arithmetic operations (+, −, \\*, /) and brackets/parentheses, it is possible to form different positive integer targets.\n",
    "\n",
    "\n",
    "For example,\n",
    "\n",
    "\n",
    "8 = (4 \\* (1 + 3)) / 2  \n",
    "\n",
    "14 = 4 \\* (3 + 1 / 2)  \n",
    "\n",
    "19 = 4 \\* (2 + 3) − 1  \n",
    "\n",
    "36 = 3 \\* 4 \\* (2 + 1)\n",
    "\n",
    "\n",
    "Note that concatenations of the digits, like 12 + 34, are not allowed.\n",
    "\n",
    "\n",
    "Using the set, {1, 2, 3, 4}, it is possible to obtain thirty-one different target numbers of which 36 is the maximum, and each of the numbers 1 to 28 can be obtained before encountering the first non-expressible number.\n",
    "\n",
    "\n",
    "Find the set of four distinct digits, *a* < *b* < *c* < *d*, for which the longest set of consecutive positive integers, 1 to *n*, can be obtained, giving your answer as a string: *abcd*.\n",
    "\n",
    "\n"
   ]
  },
  {
   "cell_type": "code",
   "execution_count": null,
   "id": "aeb2430a",
   "metadata": {},
   "outputs": [],
   "source": []
  },
  {
   "cell_type": "markdown",
   "id": "cd977f4c",
   "metadata": {},
   "source": [
    "It is easily proved that no equilateral triangle exists with integral length sides and integral area. However, the *almost equilateral triangle* 5-5-6 has an area of 12 square units.\n",
    "\n",
    "\n",
    "We shall define an *almost equilateral triangle* to be a triangle for which two sides are equal and the third differs by no more than one unit.\n",
    "\n",
    "\n",
    "Find the sum of the perimeters of all *almost equilateral triangles* with integral side lengths and area and whose perimeters do not exceed one billion (1,000,000,000).\n",
    "\n",
    "\n"
   ]
  },
  {
   "cell_type": "code",
   "execution_count": null,
   "id": "5c3db478",
   "metadata": {},
   "outputs": [],
   "source": []
  },
  {
   "cell_type": "markdown",
   "id": "90f4466e",
   "metadata": {},
   "source": [
    "The proper divisors of a number are all the divisors excluding the number itself. For example, the proper divisors of 28 are 1, 2, 4, 7, and 14. As the sum of these divisors is equal to 28, we call it a perfect number.\n",
    "\n",
    "\n",
    "Interestingly the sum of the proper divisors of 220 is 284 and the sum of the proper divisors of 284 is 220, forming a chain of two numbers. For this reason, 220 and 284 are called an amicable pair.\n",
    "\n",
    "\n",
    "Perhaps less well known are longer chains. For example, starting with 12496, we form a chain of five numbers:\n",
    "\n",
    "\n",
    "12496 → 14288 → 15472 → 14536 → 14264 (→ 12496 → ...)\n",
    "\n",
    "\n",
    "Since this chain returns to its starting point, it is called an amicable chain.\n",
    "\n",
    "\n",
    "Find the smallest member of the longest amicable chain with no element exceeding one million.\n",
    "\n",
    "\n"
   ]
  },
  {
   "cell_type": "code",
   "execution_count": null,
   "id": "0c291c11",
   "metadata": {},
   "outputs": [],
   "source": []
  },
  {
   "cell_type": "markdown",
   "id": "11cccd92",
   "metadata": {},
   "source": [
    "Su Doku (Japanese meaning *number place*) is the name given to a popular puzzle concept. Its origin is unclear, but credit must be attributed to Leonhard Euler who invented a similar, and much more difficult, puzzle idea called Latin Squares. The objective of Su Doku puzzles, however, is to replace the blanks (or zeros) in a 9 by 9 grid in such that each row, column, and 3 by 3 box contains each of the digits 1 to 9. Below is an example of a typical starting puzzle grid and its solution grid.\n",
    "\n",
    "\n",
    "\n",
    "![p096_1.png](project/images/p096_1.png)     ![p096_2.png](project/images/p096_2.png)\n",
    "A well constructed Su Doku puzzle has a unique solution and can be solved by logic, although it may be necessary to employ \"guess and test\" methods in order to eliminate options (there is much contested opinion over this). The complexity of the search determines the difficulty of the puzzle; the example above is considered *easy* because it can be solved by straight forward direct deduction.\n",
    "\n",
    "\n",
    "The 6K text file, [sudoku.txt](project/resources/p096_sudoku.txt) (right click and 'Save Link/Target As...'), contains fifty different Su Doku puzzles ranging in difficulty, but all with unique solutions (the first puzzle in the file is the example above).\n",
    "\n",
    "\n",
    "By solving all fifty puzzles find the sum of the 3-digit numbers found in the top left corner of each solution grid; for example, 483 is the 3-digit number found in the top left corner of the solution grid above.\n",
    "\n",
    "\n"
   ]
  },
  {
   "cell_type": "code",
   "execution_count": null,
   "id": "432c9ce7",
   "metadata": {},
   "outputs": [],
   "source": []
  },
  {
   "cell_type": "markdown",
   "id": "9752b1c7",
   "metadata": {},
   "source": [
    "The first known prime found to exceed one million digits was discovered in 1999, and is a Mersenne prime of the form 26972593−1; it contains exactly 2,098,960 digits. Subsequently other Mersenne primes, of the form 2*p*−1, have been found which contain more digits.\n",
    "\n",
    "\n",
    "However, in 2004 there was found a massive non-Mersenne prime which contains 2,357,207 digits: 28433×27830457+1.\n",
    "\n",
    "\n",
    "Find the last ten digits of this prime number.\n",
    "\n",
    "\n"
   ]
  },
  {
   "cell_type": "code",
   "execution_count": null,
   "id": "bcc37db5",
   "metadata": {},
   "outputs": [],
   "source": []
  },
  {
   "cell_type": "markdown",
   "id": "ca69ee79",
   "metadata": {},
   "source": [
    "By replacing each of the letters in the word CARE with 1, 2, 9, and 6 respectively, we form a square number: 1296 = 362. What is remarkable is that, by using the same digital substitutions, the anagram, RACE, also forms a square number: 9216 = 962. We shall call CARE (and RACE) a square anagram word pair and specify further that leading zeroes are not permitted, neither may a different letter have the same digital value as another letter.\n",
    "\n",
    "\n",
    "Using [words.txt](project/resources/p098_words.txt) (right click and 'Save Link/Target As...'), a 16K text file containing nearly two-thousand common English words, find all the square anagram word pairs (a palindromic word is NOT considered to be an anagram of itself).\n",
    "\n",
    "\n",
    "What is the largest square number formed by any member of such a pair?\n",
    "\n",
    "\n",
    "NOTE: All anagrams formed must be contained in the given text file.\n",
    "\n",
    "\n"
   ]
  },
  {
   "cell_type": "code",
   "execution_count": null,
   "id": "2eaacffa",
   "metadata": {},
   "outputs": [],
   "source": []
  },
  {
   "cell_type": "markdown",
   "id": "926769b8",
   "metadata": {},
   "source": [
    "Comparing two numbers written in index form like 211 and 37 is not difficult, as any calculator would confirm that 211 = 2048 < 37 = 2187.\n",
    "\n",
    "\n",
    "However, confirming that 632382518061 > 519432525806 would be much more difficult, as both numbers contain over three million digits.\n",
    "\n",
    "\n",
    "Using [base\\_exp.txt](project/resources/p099_base_exp.txt) (right click and 'Save Link/Target As...'), a 22K text file containing one thousand lines with a base/exponent pair on each line, determine which line number has the greatest numerical value.\n",
    "\n",
    "\n",
    "NOTE: The first two lines in the file represent the numbers in the example given above.\n",
    "\n",
    "\n"
   ]
  },
  {
   "cell_type": "code",
   "execution_count": null,
   "id": "18142f89",
   "metadata": {},
   "outputs": [],
   "source": []
  },
  {
   "cell_type": "markdown",
   "id": "dfd5457d",
   "metadata": {},
   "source": [
    "\n",
    "If a box contains twenty-one coloured discs, composed of fifteen blue discs and six red discs, and two discs were taken at random, it can be seen that the probability of taking two blue discs, P(BB) = (15/21)×(14/20) = 1/2.\n",
    "\n",
    "\n",
    "The next such arrangement, for which there is exactly 50% chance of taking two blue discs at random, is a box containing eighty-five blue discs and thirty-five red discs.\n",
    "\n",
    "\n",
    "By finding the first arrangement to contain over 1012 = 1,000,000,000,000 discs in total, determine the number of blue discs that the box would contain.\n",
    "\n",
    "\n"
   ]
  },
  {
   "cell_type": "code",
   "execution_count": null,
   "id": "b67a0009",
   "metadata": {},
   "outputs": [],
   "source": []
  }
 ],
 "metadata": {},
 "nbformat": 4,
 "nbformat_minor": 5
}
