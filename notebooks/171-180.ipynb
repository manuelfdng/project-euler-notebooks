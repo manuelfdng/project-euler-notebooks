{
 "cells": [
  {
   "cell_type": "markdown",
   "id": "31387a06",
   "metadata": {},
   "source": [
    "# Project Euler Problems #171 to #180"
   ]
  },
  {
   "cell_type": "markdown",
   "id": "74113aba",
   "metadata": {},
   "source": [
    "For a positive integer n, let f(n) be the sum of the squares of the digits (in base 10) of n, e.g.\n",
    "\n",
    "\n",
    "f(3) = 32 = 9,  \n",
    "\n",
    "f(25) = 22 + 52 = 4 + 25 = 29,  \n",
    "\n",
    "f(442) = 42 + 42 + 22 = 16 + 16 + 4 = 36\n",
    "\n",
    "\n",
    "Find the last nine digits of the sum of all n, 0 < n < 1020, such that f(n) is a perfect square.\n",
    "\n",
    "\n"
   ]
  },
  {
   "cell_type": "code",
   "execution_count": null,
   "id": "0f3981a2",
   "metadata": {},
   "outputs": [],
   "source": []
  },
  {
   "cell_type": "markdown",
   "id": "c48755f0",
   "metadata": {},
   "source": [
    "How many 18-digit numbers n (without leading zeros) are there such that no digit occurs more than three times in n?\n",
    "\n",
    "\n"
   ]
  },
  {
   "cell_type": "code",
   "execution_count": null,
   "id": "c3ce9d9a",
   "metadata": {},
   "outputs": [],
   "source": []
  },
  {
   "cell_type": "markdown",
   "id": "48bff1b4",
   "metadata": {},
   "source": [
    "We shall define a square lamina to be a square outline with a square \"hole\" so that the shape possesses vertical and horizontal symmetry. For example, using exactly thirty-two square tiles we can form two different square laminae:\n",
    "\n",
    "\n",
    "\n",
    "![](project/images/p173_square_laminas.gif)\n",
    "With one-hundred tiles, and not necessarily using all of the tiles at one time, it is possible to form forty-one different square laminae.\n",
    "\n",
    "\n",
    "Using up to one million tiles how many different square laminae can be formed?\n",
    "\n",
    "\n"
   ]
  },
  {
   "cell_type": "code",
   "execution_count": null,
   "id": "5359cf21",
   "metadata": {},
   "outputs": [],
   "source": []
  },
  {
   "cell_type": "markdown",
   "id": "4a1c2699",
   "metadata": {},
   "source": [
    "We shall define a square lamina to be a square outline with a square \"hole\" so that the shape possesses vertical and horizontal symmetry.\n",
    "\n",
    "\n",
    "Given eight tiles it is possible to form a lamina in only one way: 3x3 square with a 1x1 hole in the middle. However, using thirty-two tiles it is possible to form two distinct laminae.\n",
    "\n",
    "\n",
    "\n",
    "![](project/images/p173_square_laminas.gif)\n",
    "If t represents the number of tiles used, we shall say that t = 8 is type L(1) and t = 32 is type L(2).\n",
    "\n",
    "\n",
    "Let N(n) be the number of t ≤ 1000000 such that t is type L(n); for example, N(15) = 832.\n",
    "\n",
    "\n",
    "What is ∑ N(n) for 1 ≤ n ≤ 10?\n",
    "\n",
    "\n"
   ]
  },
  {
   "cell_type": "code",
   "execution_count": null,
   "id": "59a344ad",
   "metadata": {},
   "outputs": [],
   "source": []
  },
  {
   "cell_type": "markdown",
   "id": "a58b6e3a",
   "metadata": {},
   "source": [
    "Define f(0)=1 and f(n) to be the number of ways to write n as a sum of powers of 2 where no power occurs more than twice.   \n",
    "  \n",
    "\n",
    "\n",
    "For example, f(10)=5 since there are five different ways to express 10:  \n",
    "10 = 8+2 = 8+1+1 = 4+4+2 = 4+2+2+1+1 = 4+4+1+1  \n",
    "  \n",
    "\n",
    "\n",
    "It can be shown that for every fraction p/q (p>0, q>0) there exists at least one integer n such that  \n",
    " f(n)/f(n-1)=p/q.  \n",
    "  \n",
    "\n",
    "For instance, the smallest n for which f(n)/f(n-1)=13/17 is 241.  \n",
    "\n",
    "The binary expansion of 241 is 11110001.  \n",
    "\n",
    "Reading this binary number from the most significant bit to the least significant bit there are 4 one's, 3 zeroes and 1 one. We shall call the string 4,3,1 the Shortened Binary Expansion of 241.  \n",
    "  \n",
    "\n",
    "Find the Shortened Binary Expansion of the smallest n for which  \n",
    " f(n)/f(n-1)=123456789/987654321.  \n",
    "  \n",
    "\n",
    "Give your answer as comma separated integers, without any whitespaces.\n"
   ]
  },
  {
   "cell_type": "code",
   "execution_count": null,
   "id": "69ce4a27",
   "metadata": {},
   "outputs": [],
   "source": []
  },
  {
   "cell_type": "markdown",
   "id": "84840513",
   "metadata": {},
   "source": [
    "The four right-angled triangles with sides (9,12,15), (12,16,20), (5,12,13) and (12,35,37) all have one of the shorter sides (catheti) equal to 12. It can be shown that no other integer sided right-angled triangle exists with one of the catheti equal to 12.\n",
    "\n",
    "\n",
    "Find the smallest integer that can be the length of a cathetus of exactly 47547 different integer sided right-angled triangles.\n",
    "\n",
    "\n"
   ]
  },
  {
   "cell_type": "code",
   "execution_count": null,
   "id": "f6650e91",
   "metadata": {},
   "outputs": [],
   "source": []
  },
  {
   "cell_type": "markdown",
   "id": "62f6d14e",
   "metadata": {},
   "source": [
    "Let ABCD be a convex quadrilateral, with diagonals AC and BD. At each vertex the diagonal makes an angle with each of the two sides, creating eight corner angles.\n",
    "\n",
    "\n",
    "![](project/images/p177_quad.gif)\n",
    "\n",
    "\n",
    "For example, at vertex A, the two angles are CAD, CAB.\n",
    "\n",
    "\n",
    "We call such a quadrilateral for which all eight corner angles have integer values when measured in degrees an \"integer angled quadrilateral\". An example of an integer angled quadrilateral is a square, where all eight corner angles are 45°. Another example is given by DAC = 20°, BAC = 60°, ABD = 50°, CBD = 30°, BCA = 40°, DCA = 30°, CDB = 80°, ADB = 50°.\n",
    "\n",
    "\n",
    "What is the total number of non-similar integer angled quadrilaterals?\n",
    "\n",
    "\n",
    "Note: In your calculations you may assume that a calculated angle is integral if it is within a tolerance of 10-9 of an integer value.\n",
    "\n",
    "\n"
   ]
  },
  {
   "cell_type": "code",
   "execution_count": null,
   "id": "0f0a83cb",
   "metadata": {},
   "outputs": [],
   "source": []
  },
  {
   "cell_type": "markdown",
   "id": "72596880",
   "metadata": {},
   "source": [
    "Consider the number 45656.   \n",
    "\n",
    "It can be seen that each pair of consecutive digits of 45656 has a difference of one.  \n",
    "\n",
    "A number for which every pair of consecutive digits has a difference of one is called a step number.  \n",
    "\n",
    "A pandigital number contains every decimal digit from 0 to 9 at least once.  \n",
    "\n",
    "\n",
    "How many pandigital step numbers less than 1040 are there?\n",
    "\n"
   ]
  },
  {
   "cell_type": "code",
   "execution_count": null,
   "id": "e16c381f",
   "metadata": {},
   "outputs": [],
   "source": []
  },
  {
   "cell_type": "markdown",
   "id": "66ed265c",
   "metadata": {},
   "source": [
    "Find the number of integers 1 < n < 107, for which n and n + 1 have the same number of positive divisors. For example, 14 has the positive divisors 1, 2, 7, 14 while 15 has 1, 3, 5, 15.\n",
    "\n",
    "\n"
   ]
  },
  {
   "cell_type": "code",
   "execution_count": null,
   "id": "11c1d602",
   "metadata": {},
   "outputs": [],
   "source": []
  },
  {
   "cell_type": "markdown",
   "id": "3c096bd0",
   "metadata": {},
   "source": [
    "For any integer n, consider the three functions\n",
    "\n",
    "\n",
    "f1,n(x,y,z) = xn+1 + yn+1 − zn+1  \n",
    "f2,n(x,y,z) = (xy + yz + zx)\\*(xn-1 + yn-1 − zn-1)  \n",
    "f3,n(x,y,z) = xyz\\*(xn-2 + yn-2 − zn-2)\n",
    "\n",
    "\n",
    "and their combination\n",
    "\n",
    "\n",
    "fn(x,y,z) = f1,n(x,y,z) + f2,n(x,y,z) − f3,n(x,y,z)\n",
    "\n",
    "\n",
    "We call (x,y,z) a golden triple of order k if x, y, and z are all rational numbers of the form a / b with  \n",
    "\n",
    "0 < a < b ≤ k and there is (at least) one integer n, so that fn(x,y,z) = 0.\n",
    "\n",
    "\n",
    "Let s(x,y,z) = x + y + z.  \n",
    "\n",
    "Let t = u / v be the sum of all distinct s(x,y,z) for all golden triples (x,y,z) of order 35.  \n",
    " All the s(x,y,z) and t must be in reduced form.\n",
    "\n",
    "\n",
    "Find u + v.\n",
    "\n",
    "\n"
   ]
  },
  {
   "cell_type": "code",
   "execution_count": null,
   "id": "46fc1a9e",
   "metadata": {},
   "outputs": [],
   "source": []
  }
 ],
 "metadata": {},
 "nbformat": 4,
 "nbformat_minor": 5
}
