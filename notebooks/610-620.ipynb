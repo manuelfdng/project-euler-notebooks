{
 "cells": [
  {
   "cell_type": "markdown",
   "id": "3dc992d1",
   "metadata": {},
   "source": [
    "# Project Euler Problems #610 to #620"
   ]
  },
  {
   "cell_type": "markdown",
   "id": "ddefcb03",
   "metadata": {},
   "source": [
    "Peter moves in a hallway with N+1 doors consecutively numbered from 0 through N. All doors are initially closed. Peter starts in front of door 0, and repeatedly performs the following steps:\n",
    "\n",
    "\n",
    "* First, he walks a positive square number of doors away from his position.\n",
    "* Then he walks another, larger square number of doors away from his new position.\n",
    "* He toggles the door he faces (opens it if closed, closes it if open).\n",
    "* And finally returns to door 0.\n",
    "\n",
    "We call an action any sequence of those steps. Peter never performs the exact same action twice, and makes sure to perform all possible actions that don't bring him past the last door.\n",
    "\n",
    "\n",
    "Let F(N) be the number of doors that are open after Peter has performed all possible actions. You are given that F(5) = 1, F(100) = 27, F(1000) = 233 and F(106) = 112168.\n",
    "\n",
    "\n",
    "Find F(1012).\n",
    "\n",
    "\n"
   ]
  },
  {
   "cell_type": "code",
   "execution_count": null,
   "id": "c1f1a740",
   "metadata": {},
   "outputs": [],
   "source": []
  },
  {
   "cell_type": "markdown",
   "id": "ccc5b856",
   "metadata": {},
   "source": [
    "\n",
    "Let's call two numbers *friend numbers* if their representation in base 10 has at least one common digit.  \n",
    " E.g. 1123 and 3981 are friend numbers. \n",
    "\n",
    "\n",
    "\n",
    "\n",
    "Let $f(n)$ be the number of pairs $(p,q)$ with $1\\le p \\lt q \\lt n$ such that $p$ and $q$ are friend numbers.  \n",
    "\n",
    "$f(100)=1539$.\n",
    "\n",
    "\n",
    "\n",
    "\n",
    "Find $f(10^{18})$ mod $1000267129$.\n",
    "\n",
    "\n",
    "\n"
   ]
  },
  {
   "cell_type": "code",
   "execution_count": null,
   "id": "95b192f6",
   "metadata": {},
   "outputs": [],
   "source": []
  },
  {
   "cell_type": "markdown",
   "id": "afa0d474",
   "metadata": {},
   "source": [
    "Dave is doing his homework on the balcony and, preparing a presentation about Pythagorean triangles, has just cut out a triangle with side lengths 30cm, 40cm and 50cm from some cardboard, when a gust of wind blows the triangle down into the garden.  \n",
    "\n",
    "Another gust blows a small ant straight onto this triangle. The poor ant is completely disoriented and starts to crawl straight ahead in random direction in order to get back into the grass.\n",
    "\n",
    "\n",
    "Assuming that all possible positions of the ant within the triangle and all possible directions of moving on are equiprobable, what is the probability that the ant leaves the triangle along its longest side?  \n",
    "\n",
    "Give your answer rounded to 10 digits after the decimal point.\n",
    "\n",
    "\n"
   ]
  },
  {
   "cell_type": "code",
   "execution_count": null,
   "id": "5ce1ce25",
   "metadata": {},
   "outputs": [],
   "source": []
  },
  {
   "cell_type": "markdown",
   "id": "b214b5c8",
   "metadata": {},
   "source": [
    "An **integer partition** of a number $n$ is a way of writing $n$ as a sum of positive integers. Partitions that differ only by the order of their summands are considered the same.\n",
    "\n",
    "\n",
    "We call an integer partition *special* if 1) all its summands are distinct, and 2) all its even summands are also divisible by 4.   \n",
    "For example, the special partitions of $10$ are: \\[10 = 1+4+5=3+7=1+9\\]\n",
    "The number $10$ admits many more integer partitions (a total of 42), but only those three are special.\n",
    "\n",
    "\n",
    "Let be $P(n)$ the number of special integer partitions of $n$. You are given that $P(1) = 1$, $P(2) = 0$, $P(3) = 1$, $P(6) = 1$, $P(10)=3$, $P(100) = 37076$ and $P(1000)=3699177285485660336$.\n",
    "\n",
    "\n",
    "Find $\\displaystyle \\sum\\_{i=1}^{10^7}{P(i)}$. Give the result modulo $10^9+7$.\n",
    "\n",
    "\n"
   ]
  },
  {
   "cell_type": "code",
   "execution_count": null,
   "id": "430ec659",
   "metadata": {},
   "outputs": [],
   "source": []
  },
  {
   "cell_type": "markdown",
   "id": "43af90ad",
   "metadata": {},
   "source": [
    "\n",
    "Consider the natural numbers having at least 5 prime factors, which don't have to be distinct.  \n",
    " Sorting these numbers by size gives a list which starts with:\n",
    "\n",
    "\n",
    "\n",
    "* 32=2⋅2⋅2⋅2⋅2\n",
    "* 48=2⋅2⋅2⋅2⋅3\n",
    "* 64=2⋅2⋅2⋅2⋅2⋅2\n",
    "* 72=2⋅2⋅2⋅3⋅3\n",
    "* 80=2⋅2⋅2⋅2⋅5\n",
    "* 96=2⋅2⋅2⋅2⋅2⋅3\n",
    "* ...\n",
    "\n",
    "\n",
    "So, for example, the fifth number with at least 5 prime factors is 80.\n",
    "\n",
    "\n",
    "\n",
    "\n",
    "Find the millionth number with at least one million prime factors.  \n",
    " Give your answer modulo 123454321.\n",
    "\n",
    "\n",
    "\n"
   ]
  },
  {
   "cell_type": "code",
   "execution_count": null,
   "id": "48b096fb",
   "metadata": {},
   "outputs": [],
   "source": []
  },
  {
   "cell_type": "markdown",
   "id": "ac73249e",
   "metadata": {},
   "source": [
    "Alice plays the following game, she starts with a list of integers $L$ and on each step she can either:\n",
    "\n",
    "\n",
    "* remove two elements $a$ and $b$ from $L$ and add $a^b$ to $L$\n",
    "* or conversely remove an element $c$ from $L$ that can be written as $a^b$, with $a$ and $b$ being two integers such that $a, b > 1$, and add both $a$ and $b$ to $L$\n",
    "\n",
    "For example starting from the list $L=\\{8\\}$, Alice can remove $8$ and add $2$ and $3$ resulting in $L=\\{2,3\\}$ in a first step. Then she can obtain $L=\\{9\\}$ in a second step.\n",
    "\n",
    "\n",
    "Note that the same integer is allowed to appear multiple times in the list.\n",
    "\n",
    "\n",
    "An integer $n>1$ is said to be *creative* if for any integer $m>1$ Alice can obtain a list that contains $m$ starting from $L=\\{n\\}$.\n",
    "\n",
    "\n",
    "\n",
    "Find the sum of all creative integers less than or equal to $10^{12}$.\n",
    "\n",
    "\n"
   ]
  },
  {
   "cell_type": "code",
   "execution_count": null,
   "id": "4fc44731",
   "metadata": {},
   "outputs": [],
   "source": []
  },
  {
   "cell_type": "markdown",
   "id": "13bb967e",
   "metadata": {},
   "source": [
    "For two integers $n,e > 1$, we define a $(n,e)$-*MPS (Mirror Power Sequence)* to be an infinite sequence of integers $(a\\_i)\\_{i\\ge 0}$ such that for all $i\\ge 0$, $a\\_{i+1} = min(a\\_i^e,n-a\\_i^e)$ and $a\\_i > 1$.  \n",
    " Examples of such sequences are the two $(18,2)$-MPS sequences made of alternating $2$ and $4$.\n",
    "\n",
    "\n",
    "Note that even though such a sequence is uniquely determined by $n,e$ and $a\\_0$, for most values such a sequence does not exist. For example, no $(n,e)$-MPS exists for $n < 6$.\n",
    "\n",
    "\n",
    "Define $C(n)$ to be the number of $(n,e)$-MPS for some $e$, and $\\displaystyle D(N) = \\sum\\_{n=2}^N {C(n)}$.\n",
    "  \n",
    "You are given that $D(10) = 2$, $D(100) = 21$, $D(1000) = 69$, $D(10^6) = 1303$ and $D(10^{12}) = 1014800$.\n",
    "\n",
    "\n",
    "Find $D(10^{18})$.\n",
    "\n",
    "\n"
   ]
  },
  {
   "cell_type": "code",
   "execution_count": null,
   "id": "dea9a9a5",
   "metadata": {},
   "outputs": [],
   "source": []
  },
  {
   "cell_type": "markdown",
   "id": "26f33ef5",
   "metadata": {},
   "source": [
    "Consider the numbers 15, 16 and 18:  \n",
    "\n",
    "$15=3\\times 5$ and $3+5=8$.  \n",
    "\n",
    "$16 = 2\\times 2\\times 2\\times 2$ and $2+2+2+2=8$.  \n",
    "\n",
    "$18 = 2\\times 3\\times 3$ and $2+3+3=8$.  \n",
    " \n",
    "\n",
    "15, 16 and 18 are the only numbers that have 8 as sum of the prime factors (counted with multiplicity).\n",
    "\n",
    "\n",
    "\n",
    "We define $S(k)$ to be the sum of all numbers $n$ where the sum of the prime factors (with multiplicity) of $n$ is $k$.  \n",
    "\n",
    "Hence $S(8) = 15+16+18 = 49$.  \n",
    "\n",
    "Other examples: $S(1) = 0$, $S(2) = 2$, $S(3) = 3$, $S(5) = 5 + 6 = 11$.\n",
    "\n",
    "\n",
    "\n",
    "The Fibonacci sequence is $F\\_1 = 1, F\\_2 = 1, F\\_3 = 2, F\\_4 = 3, F\\_5 = 5$, ....  \n",
    "\n",
    "Find the last nine digits of $\\displaystyle\\sum\\_{k=2}^{24}{S(F\\_k)}$.\n",
    "\n",
    "\n"
   ]
  },
  {
   "cell_type": "code",
   "execution_count": null,
   "id": "34509b22",
   "metadata": {},
   "outputs": [],
   "source": []
  },
  {
   "cell_type": "markdown",
   "id": "2f28a028",
   "metadata": {},
   "source": [
    "For a set of positive integers $\\{a, a+1, a+2, \\dots , b\\}$, let $C(a,b)$ be the number of non-empty subsets in which the product of all elements is a perfect square.\n",
    "\n",
    "\n",
    "For example $C(5,10)=3$, since the products of all elements of $\\{5, 8, 10\\}$, $\\{5, 8, 9, 10\\}$ and $\\{9\\}$ are perfect squares, and no other subsets of $\\{5, 6, 7, 8, 9, 10\\}$ have this property.\n",
    "\n",
    "\n",
    "You are given that $C(40,55) =15$, and $C(1000,1234) \\text{ mod } 1000000007=975523611$.\n",
    "\n",
    "\n",
    "Find $C(1000000,1234567) \\text{ mod } 1000000007$.\n",
    "\n",
    "\n"
   ]
  },
  {
   "cell_type": "code",
   "execution_count": null,
   "id": "305b0452",
   "metadata": {},
   "outputs": [],
   "source": []
  },
  {
   "cell_type": "markdown",
   "id": "4a65d378",
   "metadata": {},
   "source": [
    "A circle $C$ of circumference $c$ centimetres has a smaller circle $S$ of circumference $s$ centimetres lying off-centre within it. Four other distinct circles, which we call \"planets\", with circumferences $p$, $p$, $q$, $q$ centimetres respectively ($p<q$), are inscribed within $C$ but outside $S$, with each planet touching both $C$ and $S$ tangentially. The planets are permitted to overlap one another, but the boundaries of $S$ and $C$ must be at least 1cm apart at their closest point.\n",
    "\n",
    "\n",
    "Now suppose that these circles are actually gears with perfectly meshing teeth at a pitch of 1cm. $C$ is an internal gear with teeth on the inside. We require that $c$, $s$, $p$, $q$ are all integers (as they are the numbers of teeth), and we further stipulate that any gear must have at least 5 teeth.\n",
    "\n",
    "\n",
    "Note that \"perfectly meshing\" means that as the gears rotate, the ratio between their angular velocities remains constant, and the teeth of one gear perfectly align with the groves of the other gear and vice versa. Only for certain gear sizes and positions will it be possible for $S$ and $C$ each to mesh perfectly with all the planets. Arrangements where not all gears mesh perfectly are not valid.\n",
    "\n",
    "\n",
    "Define $g(c,s,p,q)$ to be the number of such gear arrangements for given values of $c$, $s$, $p$, $q$: it turns out that this is finite as only certain discrete arrangements are possible satisfying the above conditions. For example, $g(16,5,5,6)=9$.\n",
    "\n",
    "\n",
    "Here is one such arrangement:\n",
    "\n",
    "\n",
    "![Example arrangement](project/images/p620_planetary_gears.png)\n",
    "Let $G(n) = \\sum\\_{s+p+q\\le n} g(s+p+q,s,p,q)$ where the sum only includes cases with $p<q$, $p\\ge 5$, and $s\\ge 5$, all integers. You are given that $G(16)=9$ and $G(20)=205$.\n",
    "\n",
    "\n",
    "Find $G(500)$.\n",
    "\n",
    "\n"
   ]
  },
  {
   "cell_type": "code",
   "execution_count": null,
   "id": "7f3cd7ad",
   "metadata": {},
   "outputs": [],
   "source": []
  }
 ],
 "metadata": {},
 "nbformat": 4,
 "nbformat_minor": 5
}
