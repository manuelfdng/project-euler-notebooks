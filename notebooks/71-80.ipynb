{
 "cells": [
  {
   "cell_type": "markdown",
   "id": "2d0e26cc",
   "metadata": {},
   "source": [
    "# Project Euler Problems #71 to #80"
   ]
  },
  {
   "cell_type": "markdown",
   "id": "15e2e9d3",
   "metadata": {},
   "source": [
    "Consider the fraction, *n/d*, where *n* and *d* are positive integers. If *n*<*d* and HCF(*n,d*)=1, it is called a reduced proper fraction.\n",
    "\n",
    "\n",
    "If we list the set of reduced proper fractions for *d* ≤ 8 in ascending order of size, we get:\n",
    "\n",
    "\n",
    "1/8, 1/7, 1/6, 1/5, 1/4, 2/7, 1/3, 3/8, **2/5**, 3/7, 1/2, 4/7, 3/5, 5/8, 2/3, 5/7, 3/4, 4/5, 5/6, 6/7, 7/8\n",
    "\n",
    "\n",
    "It can be seen that 2/5 is the fraction immediately to the left of 3/7.\n",
    "\n",
    "\n",
    "By listing the set of reduced proper fractions for *d* ≤ 1,000,000 in ascending order of size, find the numerator of the fraction immediately to the left of 3/7.\n",
    "\n",
    "\n"
   ]
  },
  {
   "cell_type": "code",
   "execution_count": null,
   "id": "d8b9bdd9",
   "metadata": {},
   "outputs": [],
   "source": []
  },
  {
   "cell_type": "markdown",
   "id": "f0845e83",
   "metadata": {},
   "source": [
    "Consider the fraction, *n/d*, where *n* and *d* are positive integers. If *n*<*d* and HCF(*n,d*)=1, it is called a reduced proper fraction.\n",
    "\n",
    "\n",
    "If we list the set of reduced proper fractions for *d* ≤ 8 in ascending order of size, we get:\n",
    "\n",
    "\n",
    "1/8, 1/7, 1/6, 1/5, 1/4, 2/7, 1/3, 3/8, 2/5, 3/7, 1/2, 4/7, 3/5, 5/8, 2/3, 5/7, 3/4, 4/5, 5/6, 6/7, 7/8\n",
    "\n",
    "\n",
    "It can be seen that there are 21 elements in this set.\n",
    "\n",
    "\n",
    "How many elements would be contained in the set of reduced proper fractions for *d* ≤ 1,000,000?\n",
    "\n",
    "\n"
   ]
  },
  {
   "cell_type": "code",
   "execution_count": null,
   "id": "dd753ddf",
   "metadata": {},
   "outputs": [],
   "source": []
  },
  {
   "cell_type": "markdown",
   "id": "bad9d208",
   "metadata": {},
   "source": [
    "Consider the fraction, *n/d*, where *n* and *d* are positive integers. If *n*<*d* and HCF(*n,d*)=1, it is called a reduced proper fraction.\n",
    "\n",
    "\n",
    "If we list the set of reduced proper fractions for *d* ≤ 8 in ascending order of size, we get:\n",
    "\n",
    "\n",
    "1/8, 1/7, 1/6, 1/5, 1/4, 2/7, 1/3, **3/8, 2/5, 3/7**, 1/2, 4/7, 3/5, 5/8, 2/3, 5/7, 3/4, 4/5, 5/6, 6/7, 7/8\n",
    "\n",
    "\n",
    "It can be seen that there are 3 fractions between 1/3 and 1/2.\n",
    "\n",
    "\n",
    "How many fractions lie between 1/3 and 1/2 in the sorted set of reduced proper fractions for *d* ≤ 12,000?\n",
    "\n",
    "\n"
   ]
  },
  {
   "cell_type": "code",
   "execution_count": null,
   "id": "16ee6927",
   "metadata": {},
   "outputs": [],
   "source": []
  },
  {
   "cell_type": "markdown",
   "id": "f6c6a4a9",
   "metadata": {},
   "source": [
    "The number 145 is well known for the property that the sum of the factorial of its digits is equal to 145:\n",
    "\n",
    "\n",
    "1! + 4! + 5! = 1 + 24 + 120 = 145\n",
    "\n",
    "\n",
    "Perhaps less well known is 169, in that it produces the longest chain of numbers that link back to 169; it turns out that there are only three such loops that exist:\n",
    "\n",
    "\n",
    "169 → 363601 → 1454 → 169  \n",
    "\n",
    "871 → 45361 → 871  \n",
    "\n",
    "872 → 45362 → 872\n",
    "\n",
    "\n",
    "It is not difficult to prove that EVERY starting number will eventually get stuck in a loop. For example,\n",
    "\n",
    "\n",
    "69 → 363600 → 1454 → 169 → 363601 (→ 1454)  \n",
    "\n",
    "78 → 45360 → 871 → 45361 (→ 871)  \n",
    "\n",
    "540 → 145 (→ 145)\n",
    "\n",
    "\n",
    "Starting with 69 produces a chain of five non-repeating terms, but the longest non-repeating chain with a starting number below one million is sixty terms.\n",
    "\n",
    "\n",
    "How many chains, with a starting number below one million, contain exactly sixty non-repeating terms?\n",
    "\n",
    "\n"
   ]
  },
  {
   "cell_type": "code",
   "execution_count": null,
   "id": "2d3ffc68",
   "metadata": {},
   "outputs": [],
   "source": []
  },
  {
   "cell_type": "markdown",
   "id": "9eba38ba",
   "metadata": {},
   "source": [
    "It turns out that 12 cm is the smallest length of wire that can be bent to form an integer sided right angle triangle in exactly one way, but there are many more examples.\n",
    "\n",
    "\n",
    "**12 cm**: (3,4,5)  \n",
    "**24 cm**: (6,8,10)  \n",
    "**30 cm**: (5,12,13)  \n",
    "**36 cm**: (9,12,15)  \n",
    "**40 cm**: (8,15,17)  \n",
    "**48 cm**: (12,16,20)\n",
    "\n",
    "\n",
    "In contrast, some lengths of wire, like 20 cm, cannot be bent to form an integer sided right angle triangle, and other lengths allow more than one solution to be found; for example, using 120 cm it is possible to form exactly three different integer sided right angle triangles.\n",
    "\n",
    "\n",
    "**120 cm**: (30,40,50), (20,48,52), (24,45,51)\n",
    "\n",
    "\n",
    "Given that L is the length of the wire, for how many values of L ≤ 1,500,000 can exactly one integer sided right angle triangle be formed?\n",
    "\n",
    "\n"
   ]
  },
  {
   "cell_type": "code",
   "execution_count": null,
   "id": "362fb552",
   "metadata": {},
   "outputs": [],
   "source": []
  },
  {
   "cell_type": "markdown",
   "id": "bf96a912",
   "metadata": {},
   "source": [
    "\n",
    "It is possible to write five as a sum in exactly six different ways:\n",
    "\n",
    "\n",
    "4 + 1  \n",
    "\n",
    "3 + 2  \n",
    "\n",
    "3 + 1 + 1  \n",
    "\n",
    "2 + 2 + 1  \n",
    "\n",
    "2 + 1 + 1 + 1  \n",
    "\n",
    "1 + 1 + 1 + 1 + 1\n",
    "\n",
    "\n",
    "How many different ways can one hundred be written as a sum of at least two positive integers?\n",
    "\n",
    "\n"
   ]
  },
  {
   "cell_type": "code",
   "execution_count": null,
   "id": "93a1f27f",
   "metadata": {},
   "outputs": [],
   "source": []
  },
  {
   "cell_type": "markdown",
   "id": "7d4c4bec",
   "metadata": {},
   "source": [
    "\n",
    "It is possible to write ten as the sum of primes in exactly five different ways:\n",
    "\n",
    "\n",
    "7 + 3  \n",
    "\n",
    "5 + 5  \n",
    "\n",
    "5 + 3 + 2  \n",
    "\n",
    "3 + 3 + 2 + 2  \n",
    "\n",
    "2 + 2 + 2 + 2 + 2\n",
    "\n",
    "\n",
    "What is the first value which can be written as the sum of primes in over five thousand different ways?\n",
    "\n",
    "\n"
   ]
  },
  {
   "cell_type": "code",
   "execution_count": null,
   "id": "efd099d3",
   "metadata": {},
   "outputs": [],
   "source": []
  },
  {
   "cell_type": "markdown",
   "id": "179e1d99",
   "metadata": {},
   "source": [
    "Let p(*n*) represent the number of different ways in which *n* coins can be separated into piles. For example, five coins can be separated into piles in exactly seven different ways, so p(5)=7.\n",
    "\n",
    "\n",
    "\n",
    "OOOOO  \n",
    "\n",
    "OOOO   O  \n",
    "\n",
    "OOO   OO  \n",
    "\n",
    "OOO   O   O  \n",
    "\n",
    "OO   OO   O  \n",
    "\n",
    "OO   O   O   O  \n",
    "\n",
    "O   O   O   O   O\n",
    "\n",
    "Find the least value of *n* for which p(*n*) is divisible by one million.\n",
    "\n",
    "\n"
   ]
  },
  {
   "cell_type": "code",
   "execution_count": null,
   "id": "b1c540da",
   "metadata": {},
   "outputs": [],
   "source": []
  },
  {
   "cell_type": "markdown",
   "id": "45021316",
   "metadata": {},
   "source": [
    "A common security method used for online banking is to ask the user for three random characters from a passcode. For example, if the passcode was 531278, they may ask for the 2nd, 3rd, and 5th characters; the expected reply would be: 317.\n",
    "\n",
    "\n",
    "The text file, [keylog.txt](project/resources/p079_keylog.txt), contains fifty successful login attempts.\n",
    "\n",
    "\n",
    "Given that the three characters are always asked for in order, analyse the file so as to determine the shortest possible secret passcode of unknown length.\n",
    "\n",
    "\n"
   ]
  },
  {
   "cell_type": "code",
   "execution_count": null,
   "id": "f8335dda",
   "metadata": {},
   "outputs": [],
   "source": []
  },
  {
   "cell_type": "markdown",
   "id": "fa244c47",
   "metadata": {},
   "source": [
    "\n",
    "It is well known that if the square root of a natural number is not an integer, then it is irrational. The decimal expansion of such square roots is infinite without any repeating pattern at all.\n",
    "\n",
    "\n",
    "The square root of two is 1.41421356237309504880..., and the digital sum of the first one hundred decimal digits is 475.\n",
    "\n",
    "\n",
    "For the first one hundred natural numbers, find the total of the digital sums of the first one hundred decimal digits for all the irrational square roots.\n",
    "\n",
    "\n"
   ]
  },
  {
   "cell_type": "code",
   "execution_count": null,
   "id": "f9b4e552",
   "metadata": {},
   "outputs": [],
   "source": []
  }
 ],
 "metadata": {},
 "nbformat": 4,
 "nbformat_minor": 5
}
