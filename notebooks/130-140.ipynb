{
 "cells": [
  {
   "cell_type": "markdown",
   "id": "dc9297cf",
   "metadata": {},
   "source": [
    "# Project Euler Problems #130 to #140"
   ]
  },
  {
   "cell_type": "markdown",
   "id": "d98d5397",
   "metadata": {},
   "source": [
    "There are some prime values, *p*, for which there exists a positive integer, *n*, such that the expression *n*3 + *n*2*p* is a perfect cube.\n",
    "\n",
    "\n",
    "For example, when *p* = 19, 83 + 82×19 = 123.\n",
    "\n",
    "\n",
    "What is perhaps most surprising is that for each prime with this property the value of *n* is unique, and there are only four such primes below one-hundred.\n",
    "\n",
    "\n",
    "How many primes below one million have this remarkable property?\n",
    "\n",
    "\n"
   ]
  },
  {
   "cell_type": "code",
   "execution_count": null,
   "id": "5f5f498c",
   "metadata": {},
   "outputs": [],
   "source": []
  },
  {
   "cell_type": "markdown",
   "id": "4981f70c",
   "metadata": {},
   "source": [
    "A number consisting entirely of ones is called a repunit. We shall define R(*k*) to be a repunit of length *k*.\n",
    "\n",
    "\n",
    "For example, R(10) = 1111111111 = 11×41×271×9091, and the sum of these prime factors is 9414.\n",
    "\n",
    "\n",
    "Find the sum of the first forty prime factors of R(109).\n",
    "\n",
    "\n"
   ]
  },
  {
   "cell_type": "code",
   "execution_count": null,
   "id": "3172b01f",
   "metadata": {},
   "outputs": [],
   "source": []
  },
  {
   "cell_type": "markdown",
   "id": "4ff2609a",
   "metadata": {},
   "source": [
    "A number consisting entirely of ones is called a repunit. We shall define R(k) to be a repunit of length k; for example, R(6) = 111111.\n",
    "\n",
    "\n",
    "Let us consider repunits of the form R(10n).\n",
    "\n",
    "\n",
    "Although R(10), R(100), or R(1000) are not divisible by 17, R(10000) is divisible by 17. Yet there is no value of n for which R(10n) will divide by 19. In fact, it is remarkable that 11, 17, 41, and 73 are the only four primes below one-hundred that can be a factor of R(10n).\n",
    "\n",
    "\n",
    "Find the sum of all the primes below one-hundred thousand that will never be a factor of R(10n).\n",
    "\n",
    "\n"
   ]
  },
  {
   "cell_type": "code",
   "execution_count": null,
   "id": "b7059f9a",
   "metadata": {},
   "outputs": [],
   "source": []
  },
  {
   "cell_type": "markdown",
   "id": "4add25dd",
   "metadata": {},
   "source": [
    "\n",
    "Consider the consecutive primes *p*1 = 19 and *p*2 = 23. It can be verified that 1219 is the smallest number such that the last digits are formed by *p*1 whilst also being divisible by *p*2.\n",
    "\n",
    "\n",
    "In fact, with the exception of *p*1 = 3 and *p*2 = 5, for every pair of consecutive primes, *p*2 > *p*1, there exist values of *n* for which the last digits are formed by *p*1 and *n* is divisible by *p*2. Let *S* be the smallest of these values of *n*.\n",
    "\n",
    "\n",
    "Find ∑ *S* for every pair of consecutive primes with 5 ≤ *p*1 ≤ 1000000.\n",
    "\n",
    "\n"
   ]
  },
  {
   "cell_type": "code",
   "execution_count": null,
   "id": "d3d9b2b9",
   "metadata": {},
   "outputs": [],
   "source": []
  },
  {
   "cell_type": "markdown",
   "id": "39f44f76",
   "metadata": {},
   "source": [
    "Given the positive integers, *x*, *y*, and *z*, are consecutive terms of an arithmetic progression, the least value of the positive integer, *n*, for which the equation, *x*2 − *y*2 − *z*2 = *n*, has exactly two solutions is *n* = 27:\n",
    "\n",
    "\n",
    "342 − 272 − 202 = 122 − 92 − 62 = 27\n",
    "\n",
    "\n",
    "It turns out that *n* = 1155 is the least value which has exactly ten solutions.\n",
    "\n",
    "\n",
    "How many values of *n* less than one million have exactly ten distinct solutions?\n",
    "\n",
    "\n"
   ]
  },
  {
   "cell_type": "code",
   "execution_count": null,
   "id": "5ad18f18",
   "metadata": {},
   "outputs": [],
   "source": []
  },
  {
   "cell_type": "markdown",
   "id": "a9747137",
   "metadata": {},
   "source": [
    "The positive integers, *x*, *y*, and *z*, are consecutive terms of an arithmetic progression. Given that *n* is a positive integer, the equation, *x*2 − *y*2 − *z*2 = *n*, has exactly one solution when *n* = 20:\n",
    "\n",
    "\n",
    "132 − 102 − 72 = 20\n",
    "\n",
    "\n",
    "In fact there are twenty-five values of *n* below one hundred for which the equation has a unique solution.\n",
    "\n",
    "\n",
    "How many values of *n* less than fifty million have exactly one solution?\n",
    "\n",
    "\n"
   ]
  },
  {
   "cell_type": "code",
   "execution_count": null,
   "id": "844920ff",
   "metadata": {},
   "outputs": [],
   "source": []
  },
  {
   "cell_type": "markdown",
   "id": "a2d04cef",
   "metadata": {},
   "source": [
    "Consider the infinite polynomial series $A\\_F(x) = x F\\_1 + x^2 F\\_2 + x^3 F\\_3 + \\dots$, where $F\\_k$ is the $k$th term in the Fibonacci sequence: $1, 1, 2, 3, 5, 8, \\dots$; that is, $F\\_k = F\\_{k-1} + F\\_{k-2}$, $F\\_1 = 1$ and $F\\_2 = 1$.\n",
    "\n",
    "\n",
    "For this problem we shall be interested in values of $x$ for which $A\\_F(x)$ is a positive integer.\n",
    "\n",
    "\n",
    "\n",
    "\n",
    "|  |  |\n",
    "| --- | --- |\n",
    "| Surprisingly | $\\begin{align\\*} \n",
    "A\\_F(\\tfrac{1}{2})\n",
    " &= (\\tfrac{1}{2})\\times 1 + (\\tfrac{1}{2})^2\\times 1 + (\\tfrac{1}{2})^3\\times 2 + (\\tfrac{1}{2})^4\\times 3 + (\\tfrac{1}{2})^5\\times 5 + \\cdots \\\\ \n",
    " &= \\tfrac{1}{2} + \\tfrac{1}{4} + \\tfrac{2}{8} + \\tfrac{3}{16} + \\tfrac{5}{32} + \\cdots \\\\\n",
    " &= 2\n",
    "\\end{align\\*}$ |\n",
    "\n",
    "The corresponding values of *x* for the first five natural numbers are shown below.\n",
    "\n",
    "\n",
    "\n",
    "\n",
    "\n",
    "| $x$ | $A\\_F(x)$ |\n",
    "| --- | --- |\n",
    "| $\\sqrt{2}-1$ | 1 |\n",
    "| $\\tfrac{1}{2}$ | 2 |\n",
    "| $\\frac{\\sqrt{13}-2}{3}$ | 3 |\n",
    "| $\\frac{\\sqrt{89}-5}{8}$ | 4 |\n",
    "| $\\frac{\\sqrt{34}-3}{5}$ | 5 |\n",
    "\n",
    "\n",
    "We shall call $A\\_F(x)$ a golden nugget if $x$ is rational, because they become increasingly rarer; for example, the 10th golden nugget is 74049690.\n",
    "\n",
    "\n",
    "Find the 15th golden nugget.\n",
    "\n",
    "\n"
   ]
  },
  {
   "cell_type": "code",
   "execution_count": null,
   "id": "33019c91",
   "metadata": {},
   "outputs": [],
   "source": []
  },
  {
   "cell_type": "markdown",
   "id": "86c61568",
   "metadata": {},
   "source": [
    "Consider the isosceles triangle with base length, $b = 16$, and legs, $L = 17$.\n",
    "\n",
    "\n",
    "\n",
    "![](project/images/p138.png)\n",
    "By using the Pythagorean theorem it can be seen that the height of the triangle, $h = \\sqrt{17^2 - 8^2} = 15$, which is one less than the base length.\n",
    "\n",
    "\n",
    "With $b = 272$ and $L = 305$, we get $h = 273$, which is one more than the base length, and this is the second smallest isosceles triangle with the property that $h = b \\pm 1$.\n",
    "\n",
    "\n",
    "Find $\\sum L$ for the twelve smallest isosceles triangles for which $h = b \\pm 1$ and $b$, $L$ are positive integers.\n",
    "\n",
    "\n"
   ]
  },
  {
   "cell_type": "code",
   "execution_count": null,
   "id": "7245742b",
   "metadata": {},
   "outputs": [],
   "source": []
  },
  {
   "cell_type": "markdown",
   "id": "7db51e97",
   "metadata": {},
   "source": [
    "Let (*a*, *b*, *c*) represent the three sides of a right angle triangle with integral length sides. It is possible to place four such triangles together to form a square with length *c*.\n",
    "\n",
    "\n",
    "For example, (3, 4, 5) triangles can be placed together to form a 5 by 5 square with a 1 by 1 hole in the middle and it can be seen that the 5 by 5 square can be tiled with twenty-five 1 by 1 squares.\n",
    "\n",
    "\n",
    "\n",
    "![](project/images/p139.png)\n",
    "However, if (5, 12, 13) triangles were used then the hole would measure 7 by 7 and these could not be used to tile the 13 by 13 square.\n",
    "\n",
    "\n",
    "Given that the perimeter of the right triangle is less than one-hundred million, how many Pythagorean triangles would allow such a tiling to take place?\n",
    "\n",
    "\n"
   ]
  },
  {
   "cell_type": "code",
   "execution_count": null,
   "id": "0a632416",
   "metadata": {},
   "outputs": [],
   "source": []
  },
  {
   "cell_type": "markdown",
   "id": "28b644b8",
   "metadata": {},
   "source": [
    "Consider the infinite polynomial series $A\\_G(x) = x G\\_1 + x^2 G\\_2 + x^3 G\\_3 + \\cdots$, where $G\\_k$ is the $k$th term of the second order recurrence relation $G\\_k = G\\_{k-1} + G\\_{k-2}$, $G\\_1 = 1$ and $G\\_2 = 4$; that is, $1, 4, 5, 9, 14, 23, \\dots$ .\n",
    "\n",
    "\n",
    "For this problem we shall be concerned with values of $x$ for which $A\\_G(x)$ is a positive integer.\n",
    "\n",
    "\n",
    "The corresponding values of $x$ for the first five natural numbers are shown below.\n",
    "\n",
    "\n",
    "\n",
    "\n",
    "\n",
    "| $x$ | $A\\_G(x)$ |\n",
    "| --- | --- |\n",
    "| $\\frac{\\sqrt{5}-1}{4}$ | 1 |\n",
    "| $\\tfrac{2}{5}$ | 2 |\n",
    "| $\\frac{\\sqrt{22}-2}{6}$ | 3 |\n",
    "| $\\frac{\\sqrt{137}-5}{14}$ | 4 |\n",
    "| $\\tfrac{1}{2}$ | 5 |\n",
    "\n",
    "\n",
    "We shall call $A\\_G(x)$ a golden nugget if $x$ is rational, because they become increasingly rarer; for example, the 20th golden nugget is 211345365.\n",
    "\n",
    "\n",
    "Find the sum of the first thirty golden nuggets.\n",
    "\n",
    "\n"
   ]
  },
  {
   "cell_type": "code",
   "execution_count": null,
   "id": "e9add26d",
   "metadata": {},
   "outputs": [],
   "source": []
  }
 ],
 "metadata": {},
 "nbformat": 4,
 "nbformat_minor": 5
}
