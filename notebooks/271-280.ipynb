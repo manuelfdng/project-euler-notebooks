{
 "cells": [
  {
   "cell_type": "markdown",
   "id": "439386c2",
   "metadata": {},
   "source": [
    "# Project Euler Problems #271 to #280"
   ]
  },
  {
   "cell_type": "markdown",
   "id": "57b882c5",
   "metadata": {},
   "source": [
    "\n",
    "For a positive number n, define S(n) as the sum of the integers x, for which 1<x<n and  \n",
    "x3≡1 mod n.\n",
    "\n",
    "\n",
    "\n",
    "\n",
    "When n=91, there are 8 possible values for x, namely : 9, 16, 22, 29, 53, 74, 79, 81.  \n",
    "\n",
    "Thus, S(91)=9+16+22+29+53+74+79+81=363.\n",
    "\n",
    "\n",
    "\n",
    "Find S(13082761331670030).\n",
    "\n",
    "\n",
    "\n"
   ]
  },
  {
   "cell_type": "code",
   "execution_count": null,
   "id": "793fd210",
   "metadata": {},
   "outputs": [],
   "source": []
  },
  {
   "cell_type": "markdown",
   "id": "7dfbfbe8",
   "metadata": {},
   "source": [
    "\n",
    "For a positive number n, define C(n) as the number of the integers x, for which 1<x<n and  \n",
    "x3≡1 mod n.\n",
    "\n",
    "\n",
    "\n",
    "\n",
    "When n=91, there are 8 possible values for x, namely : 9, 16, 22, 29, 53, 74, 79, 81.  \n",
    "\n",
    "Thus, C(91)=8.\n",
    "\n",
    "\n",
    "\n",
    "Find the sum of the positive numbers n≤1011 for which C(n)=242.\n",
    "\n",
    "\n"
   ]
  },
  {
   "cell_type": "code",
   "execution_count": null,
   "id": "9fec9899",
   "metadata": {},
   "outputs": [],
   "source": []
  },
  {
   "cell_type": "markdown",
   "id": "1d71b7af",
   "metadata": {},
   "source": [
    "Consider equations of the form: a2 + b2 = N, 0 ≤ a ≤ b, a, b and N integer.\n",
    "\n",
    "\n",
    "For N=65 there are two solutions:\n",
    "\n",
    "\n",
    "a=1, b=8 and a=4, b=7.\n",
    "\n",
    "\n",
    "We call S(N) the sum of the values of a of all solutions of a2 + b2 = N, 0 ≤ a ≤ b, a, b and N integer.\n",
    "\n",
    "\n",
    "Thus S(65) = 1 + 4 = 5.\n",
    "\n",
    "\n",
    "Find ∑ S(N), for all squarefree N only divisible by primes of the form 4k+1 with 4k+1 < 150.\n",
    "\n",
    "\n"
   ]
  },
  {
   "cell_type": "code",
   "execution_count": null,
   "id": "0504b25a",
   "metadata": {},
   "outputs": [],
   "source": []
  },
  {
   "cell_type": "markdown",
   "id": "4cc61a8e",
   "metadata": {},
   "source": [
    "For each integer p > 1 coprime to 10 there is a positive *divisibility multiplier* m < p which preserves divisibility by p for the following function on any positive integer, n:\n",
    "\n",
    "\n",
    "f(n) = (all but the last digit of n) + (the last digit of n) \\* m\n",
    "\n",
    "\n",
    "That is, if m is the divisibility multiplier for p, then f(n) is divisible by p if and only if n is divisible by p.\n",
    "\n",
    "\n",
    "(When n is much larger than p, f(n) will be less than n and repeated application of f provides a multiplicative divisibility test for p.)\n",
    "\n",
    "\n",
    "For example, the divisibility multiplier for 113 is 34.\n",
    "\n",
    "\n",
    "f(76275) = 7627 + 5 \\* 34 = 7797 : 76275 and 7797 are both divisible by 113  \n",
    "f(12345) = 1234 + 5 \\* 34 = 1404 : 12345 and 1404 are both not divisible by 113\n",
    "\n",
    "\n",
    "The sum of the divisibility multipliers for the primes that are coprime to 10 and less than 1000 is 39517. What is the sum of the divisibility multipliers for the primes that are coprime to 10 and less than 107?\n",
    "\n",
    "\n"
   ]
  },
  {
   "cell_type": "code",
   "execution_count": null,
   "id": "87572001",
   "metadata": {},
   "outputs": [],
   "source": []
  },
  {
   "cell_type": "markdown",
   "id": "00b651f0",
   "metadata": {},
   "source": [
    "Let us define a *balanced sculpture* of order n as follows:\n",
    "\n",
    "\n",
    "* A polyomino made up of n+1 tiles known as the *blocks* (n tiles)  \n",
    " and the *plinth* (remaining tile);\n",
    "* the plinth has its centre at position (x = 0, y = 0);\n",
    "* the blocks have y-coordinates greater than zero (so the plinth is the unique lowest tile);\n",
    "* the centre of mass of all the blocks, combined, has x-coordinate equal to zero.\n",
    "\n",
    "When counting the sculptures, any arrangements which are simply reflections about the y-axis, are not counted as distinct. For example, the 18 balanced sculptures of order 6 are shown below; note that each pair of mirror images (about the y-axis) is counted as one sculpture:\n",
    "\n",
    "\n",
    "![p275_sculptures2.gif](project/images/p275_sculptures2.gif)\n",
    "There are 964 balanced sculptures of order 10 and 360505 of order 15.  \n",
    "How many balanced sculptures are there of order 18?\n",
    "\n",
    "\n"
   ]
  },
  {
   "cell_type": "code",
   "execution_count": null,
   "id": "e107ef15",
   "metadata": {},
   "outputs": [],
   "source": []
  },
  {
   "cell_type": "markdown",
   "id": "963f1433",
   "metadata": {},
   "source": [
    "Consider the triangles with integer sides a, b and c with a ≤ b ≤ c.  \n",
    "\n",
    "An integer sided triangle (a,b,c) is called primitive if  gcd(a,b,c)=1.   \n",
    "\n",
    "How many primitive integer sided triangles exist with a perimeter not exceeding 10 000 000?\n",
    "\n",
    "\n",
    "\n"
   ]
  },
  {
   "cell_type": "code",
   "execution_count": null,
   "id": "cd795cef",
   "metadata": {},
   "outputs": [],
   "source": []
  },
  {
   "cell_type": "markdown",
   "id": "748b15d3",
   "metadata": {},
   "source": [
    "\n",
    "A modified Collatz sequence of integers is obtained from a starting value $a\\_1$ in the following way:\n",
    "\n",
    "\n",
    "\n",
    "$a\\_{n+1} = \\, \\,\\, \\frac {a\\_n} 3 \\quad$ if $a\\_n$ is divisible by $3$. We shall denote this as a large downward step, \"D\".\n",
    "\n",
    "\n",
    "\n",
    "$a\\_{n+1} = \\frac {4 a\\_n+2} 3 \\, \\,$ if $a\\_n$ divided by $3$ gives a remainder of $1$. We shall denote this as an upward step, \"U\".\n",
    "\n",
    "\n",
    "\n",
    "\n",
    "$a\\_{n+1} = \\frac {2 a\\_n -1} 3 \\, \\,$ if $a\\_n$ divided by $3$ gives a remainder of $2$. We shall denote this as a small downward step, \"d\".\n",
    "\n",
    "\n",
    "\n",
    "\n",
    "The sequence terminates when some $a\\_n = 1$.\n",
    "\n",
    "\n",
    "\n",
    "\n",
    "Given any integer, we can list out the sequence of steps.  \n",
    "\n",
    "For instance if $a\\_1=231$, then the sequence $\\{a\\_n\\}=\\{231,77,51,17,11,7,10,14,9,3,1\\}$ corresponds to the steps \"DdDddUUdDD\".\n",
    "\n",
    "\n",
    "\n",
    "\n",
    "Of course, there are other sequences that begin with that same sequence \"DdDddUUdDD....\".  \n",
    "\n",
    "For instance, if $a\\_1=1004064$, then the sequence is DdDddUUdDDDdUDUUUdDdUUDDDUdDD.  \n",
    "\n",
    "In fact, $1004064$ is the smallest possible $a\\_1 > 10^6$ that begins with the sequence DdDddUUdDD.\n",
    "\n",
    "\n",
    "\n",
    "\n",
    "What is the smallest $a\\_1 > 10^{15}$ that begins with the sequence \"UDDDUdddDDUDDddDdDddDDUDDdUUDd\"?\n",
    "\n",
    "\n",
    "\n"
   ]
  },
  {
   "cell_type": "code",
   "execution_count": null,
   "id": "55b22071",
   "metadata": {},
   "outputs": [],
   "source": []
  },
  {
   "cell_type": "markdown",
   "id": "b8ad33ba",
   "metadata": {},
   "source": [
    "\n",
    "Given the values of integers $1 < a\\_1 < a\\_2 < \\dots < a\\_n$, consider the linear combination  \n",
    "\n",
    "$q\\_1 a\\_1+q\\_2 a\\_2 + \\dots + q\\_n a\\_n=b$, using only integer values $q\\_k \\ge 0$. \n",
    "\n",
    "\n",
    "\n",
    "\n",
    "Note that for a given set of $a\\_k$, it may be that not all values of $b$ are possible.  \n",
    "\n",
    "For instance, if $a\\_1=5$ and $a\\_2=7$, there are no $q\\_1 \\ge 0$ and $q\\_2 \\ge 0$ such that $b$ could be  \n",
    " \n",
    "$1, 2, 3, 4, 6, 8, 9, 11, 13, 16, 18$ or $23$.\n",
    "  \n",
    "\n",
    "In fact, $23$ is the largest impossible value of $b$ for $a\\_1=5$ and $a\\_2=7$.  \n",
    " We therefore call $f(5, 7) = 23$.  \n",
    " Similarly, it can be shown that $f(6, 10, 15)=29$ and $f(14, 22, 77) = 195$.\n",
    "\n",
    "\n",
    "\n",
    "\n",
    "Find $\\displaystyle \\sum f( p\\, q,p \\, r, q \\, r)$, where $p$, $q$ and $r$ are prime numbers and $p < q < r < 5000$.\n",
    "\n",
    "\n",
    "\n"
   ]
  },
  {
   "cell_type": "code",
   "execution_count": null,
   "id": "194cf185",
   "metadata": {},
   "outputs": [],
   "source": []
  },
  {
   "cell_type": "markdown",
   "id": "69cc3581",
   "metadata": {},
   "source": [
    "\n",
    "How many triangles are there with integral sides, at least one integral angle (measured in degrees), and a perimeter that does not exceed 108?\n",
    "\n",
    "\n",
    "\n"
   ]
  },
  {
   "cell_type": "code",
   "execution_count": null,
   "id": "1a2fdb87",
   "metadata": {},
   "outputs": [],
   "source": []
  },
  {
   "cell_type": "markdown",
   "id": "94a0fdef",
   "metadata": {},
   "source": [
    "A laborious ant walks randomly on a 5x5 grid. The walk starts from the central square. At each step, the ant moves to an adjacent square at random, without leaving the grid; thus there are 2, 3 or 4 possible moves at each step depending on the ant's position.\n",
    "\n",
    "\n",
    "At the start of the walk, a seed is placed on each square of the lower row. When the ant isn't carrying a seed and reaches a square of the lower row containing a seed, it will start to carry the seed. The ant will drop the seed on the first empty square of the upper row it eventually reaches.\n",
    "\n",
    "\n",
    "What's the expected number of steps until all seeds have been dropped in the top row?   \n",
    "\n",
    "Give your answer rounded to 6 decimal places.\n",
    "\n",
    "\n"
   ]
  },
  {
   "cell_type": "code",
   "execution_count": null,
   "id": "a1c1d27d",
   "metadata": {},
   "outputs": [],
   "source": []
  }
 ],
 "metadata": {},
 "nbformat": 4,
 "nbformat_minor": 5
}
