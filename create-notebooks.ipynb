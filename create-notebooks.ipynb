{
 "cells": [
  {
   "cell_type": "code",
   "execution_count": null,
   "metadata": {},
   "outputs": [],
   "source": [
    "import requests\n",
    "import pandas as pd\n",
    "\n",
    "import pandas as pd\n",
    "import nbformat as nbf\n",
    "from markdownify import markdownify as md"
   ]
  },
  {
   "cell_type": "code",
   "execution_count": null,
   "metadata": {},
   "outputs": [],
   "source": [
    "max_no_probs = 800\n",
    "probs = []\n",
    "\n",
    "for i in range(1, max_no_probs+1):\n",
    "    r = requests.get(f'https://projecteuler.net/minimal={i}')\n",
    "    probs.append(r.text)\n",
    "\n",
    "pd.DataFrame(probs).to_csv('proj-euler-probs.csv')\n"
   ]
  },
  {
   "cell_type": "code",
   "execution_count": null,
   "metadata": {},
   "outputs": [],
   "source": [
    "df = pd.read_csv('proj-euler-probs.csv')"
   ]
  },
  {
   "cell_type": "code",
   "execution_count": null,
   "metadata": {},
   "outputs": [],
   "source": [
    "step = 10\n",
    "\n",
    "for i in range(0, 800+1-10, step):\n",
    "    nb = nbf.v4.new_notebook()\n",
    "    higher = i+step\n",
    "    title = f'# Project Euler Problems #{i+1} to #{higher}'\n",
    "    nb['cells'] = [nbf.v4.new_markdown_cell(title)]\n",
    "\n",
    "    for j in range(i, higher):\n",
    "        prob_md = md(df['0'].iloc[j])    \n",
    "        nb['cells'].append(nbf.v4.new_markdown_cell(prob_md))\n",
    "        nb['cells'].append(nbf.v4.new_code_cell())\n",
    "\n",
    "    nbf.write(nb, f'notebooks/{i+1}-{higher}.ipynb')\n",
    "\n"
   ]
  }
 ],
 "metadata": {
  "kernelspec": {
   "display_name": "euler-nb-env",
   "language": "python",
   "name": "python3"
  },
  "language_info": {
   "codemirror_mode": {
    "name": "ipython",
    "version": 3
   },
   "file_extension": ".py",
   "mimetype": "text/x-python",
   "name": "python",
   "nbconvert_exporter": "python",
   "pygments_lexer": "ipython3",
   "version": "3.10.2"
  },
  "orig_nbformat": 4,
  "vscode": {
   "interpreter": {
    "hash": "2a6f80ce5e062e3862dce53f975eca95fd0a5bf0e75da2241e9e631348344977"
   }
  }
 },
 "nbformat": 4,
 "nbformat_minor": 2
}
